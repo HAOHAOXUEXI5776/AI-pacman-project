{
 "cells": [
  {
   "cell_type": "code",
   "execution_count": 1,
   "metadata": {},
   "outputs": [],
   "source": [
    "import pandas as pd\n",
    "import numpy as np"
   ]
  },
  {
   "cell_type": "code",
   "execution_count": 4,
   "metadata": {},
   "outputs": [],
   "source": [
    "def format1(x):\n",
    "    # print('X--', x)\n",
    "    x = x.strip()\n",
    "    s = x.split('$')\n",
    "    s = [n for n in s if len(n)>1]\n",
    "    if x.startswith('$$$'):\n",
    "        return [0,0,0,0,0]\n",
    "    return [s[0], s[1], s[2], s[3], s[-1]]\n",
    "\n",
    "def outcome(x):\n",
    "    if x=='Blue':\n",
    "        return 'LOSE'\n",
    "    if x=='Red':\n",
    "        return 'WIN'\n",
    "    else:\n",
    "        return 'TIE'"
   ]
  },
  {
   "cell_type": "code",
   "execution_count": 5,
   "metadata": {},
   "outputs": [],
   "source": [
    "string = ''\n",
    "with open('/Users/k/Downloads/output.log','r') as fr:\n",
    "    for line in fr:\n",
    "        if (line.__contains__('/Users/k/') == False) and line.__contains__('{}') == False and line.__contains__('DATA') == False:\n",
    "            string = string + line.replace('\\n', '$')"
   ]
  },
  {
   "cell_type": "code",
   "execution_count": 6,
   "metadata": {},
   "outputs": [],
   "source": [
    "arr = string.split('= = = = = = = = = = = = = = = =')"
   ]
  },
  {
   "cell_type": "code",
   "execution_count": 8,
   "metadata": {},
   "outputs": [],
   "source": [
    "def findr(x):\n",
    "    return len(x.split('$'))"
   ]
  },
  {
   "cell_type": "code",
   "execution_count": 9,
   "metadata": {},
   "outputs": [],
   "source": [
    "Narr = []"
   ]
  },
  {
   "cell_type": "code",
   "execution_count": 10,
   "metadata": {},
   "outputs": [
    {
     "name": "stdout",
     "output_type": "stream",
     "text": [
      "$FIXEDtestCapture$h3$myTeamAStar$$$Blue team starts$ \n",
      "\n",
      "$FIXEDtestCapture$h3$baselineTeam$$$Red team starts$ \n",
      "\n",
      "$FIXEDtestCapture$h3$mcts$$$Blue team starts$ \n",
      "\n",
      "$FIXEDtestCapture$h3$leeroy$$$Red team starts$ \n",
      "\n",
      "$FIXEDmediumCapture$h3$MDP.v4.1$$$Red team starts$ \n",
      "\n",
      "$FIXEDtestCapture$h3$MDP.v4.1$$$Red team starts$ \n",
      "\n",
      "$FIXEDtestCapture$h3$MDPv2$$$Blue team starts$ \n",
      "\n"
     ]
    }
   ],
   "source": [
    "for item in arr:\n",
    "    if item.endswith('starts$'):\n",
    "        print(item,'\\n')\n",
    "    else:\n",
    "        Narr.append(item)"
   ]
  },
  {
   "cell_type": "code",
   "execution_count": 11,
   "metadata": {},
   "outputs": [
    {
     "name": "stdout",
     "output_type": "stream",
     "text": [
      "21\n"
     ]
    }
   ],
   "source": [
    "Parr=[]\n",
    "for item in Narr:\n",
    "    if len(item)<50:\n",
    "        print(len(item))\n",
    "    else:\n",
    "        Parr.append(item)"
   ]
  },
  {
   "cell_type": "code",
   "execution_count": 12,
   "metadata": {},
   "outputs": [
    {
     "data": {
      "text/plain": [
       "['RANDOM841',\n",
       " 'MDP.v2',\n",
       " 'leeroy',\n",
       " 'Blue team starts',\n",
       " 'The Red team wins by 18 points.']"
      ]
     },
     "execution_count": 12,
     "metadata": {},
     "output_type": "execute_result"
    }
   ],
   "source": [
    "format1('$RANDOM841$MDP.v2$leeroy$$$1$Blue team starts$Time is up.$The Red team wins by 18 points.$')\n",
    "Parr"
   ]
  },
  {
   "cell_type": "code",
   "execution_count": 14,
   "metadata": {},
   "outputs": [],
   "source": [
    "D= []\n",
    "for item in Parr:\n",
    "    D.append(format1(item))"
   ]
  },
  {
   "cell_type": "code",
   "execution_count": 41,
   "metadata": {},
   "outputs": [],
   "source": [
    "df= pd.DataFrame.from_records(D, columns=('MAP', 'RED_TEAM','BLUE_TEAM','TEAM_START','RESULT'))"
   ]
  },
  {
   "cell_type": "code",
   "execution_count": 42,
   "metadata": {},
   "outputs": [],
   "source": [
    "def result(x):\n",
    "    s=[]\n",
    "    #print(x.split(' '))\n",
    "    if 'Tie' in x:\n",
    "        return [0, 0]\n",
    "    elif 'returned' in x:\n",
    "        s = x.split(' ')\n",
    "        return [s[1], s[7]]\n",
    "    else:\n",
    "        s = x.split(' ')\n",
    "        return [s[1], s[5]]"
   ]
  },
  {
   "cell_type": "code",
   "execution_count": 43,
   "metadata": {},
   "outputs": [
    {
     "data": {
      "text/html": [
       "<div>\n",
       "<style scoped>\n",
       "    .dataframe tbody tr th:only-of-type {\n",
       "        vertical-align: middle;\n",
       "    }\n",
       "\n",
       "    .dataframe tbody tr th {\n",
       "        vertical-align: top;\n",
       "    }\n",
       "\n",
       "    .dataframe thead th {\n",
       "        text-align: right;\n",
       "    }\n",
       "</style>\n",
       "<table border=\"1\" class=\"dataframe\">\n",
       "  <thead>\n",
       "    <tr style=\"text-align: right;\">\n",
       "      <th></th>\n",
       "      <th>MAP</th>\n",
       "      <th>RED_TEAM</th>\n",
       "      <th>BLUE_TEAM</th>\n",
       "      <th>TEAM_START</th>\n",
       "      <th>RESULT</th>\n",
       "    </tr>\n",
       "  </thead>\n",
       "  <tbody>\n",
       "    <tr>\n",
       "      <th>0</th>\n",
       "      <td>FIXEDalleyCapture</td>\n",
       "      <td>h3</td>\n",
       "      <td>myTeamAStar</td>\n",
       "      <td>Red team starts</td>\n",
       "      <td>The Red team wins by 5 points.</td>\n",
       "    </tr>\n",
       "    <tr>\n",
       "      <th>1</th>\n",
       "      <td>FIXEDbloxCapture</td>\n",
       "      <td>h3</td>\n",
       "      <td>myTeamAStar</td>\n",
       "      <td>Red team starts</td>\n",
       "      <td>The Red team wins by 10 points.</td>\n",
       "    </tr>\n",
       "    <tr>\n",
       "      <th>2</th>\n",
       "      <td>FIXEDcrowdedCapture</td>\n",
       "      <td>h3</td>\n",
       "      <td>myTeamAStar</td>\n",
       "      <td>Blue team starts</td>\n",
       "      <td>The Red team wins by 12 points.</td>\n",
       "    </tr>\n",
       "    <tr>\n",
       "      <th>3</th>\n",
       "      <td>FIXEDdefaultCapture</td>\n",
       "      <td>h3</td>\n",
       "      <td>myTeamAStar</td>\n",
       "      <td>Red team starts</td>\n",
       "      <td>Tie game!</td>\n",
       "    </tr>\n",
       "    <tr>\n",
       "      <th>4</th>\n",
       "      <td>FIXEDdistantCapture</td>\n",
       "      <td>h3</td>\n",
       "      <td>myTeamAStar</td>\n",
       "      <td>Red team starts</td>\n",
       "      <td>Tie game!</td>\n",
       "    </tr>\n",
       "  </tbody>\n",
       "</table>\n",
       "</div>"
      ],
      "text/plain": [
       "                   MAP RED_TEAM    BLUE_TEAM        TEAM_START  \\\n",
       "0    FIXEDalleyCapture       h3  myTeamAStar   Red team starts   \n",
       "1     FIXEDbloxCapture       h3  myTeamAStar   Red team starts   \n",
       "2  FIXEDcrowdedCapture       h3  myTeamAStar  Blue team starts   \n",
       "3  FIXEDdefaultCapture       h3  myTeamAStar   Red team starts   \n",
       "4  FIXEDdistantCapture       h3  myTeamAStar   Red team starts   \n",
       "\n",
       "                            RESULT  \n",
       "0   The Red team wins by 5 points.  \n",
       "1  The Red team wins by 10 points.  \n",
       "2  The Red team wins by 12 points.  \n",
       "3                        Tie game!  \n",
       "4                        Tie game!  "
      ]
     },
     "execution_count": 43,
     "metadata": {},
     "output_type": "execute_result"
    }
   ],
   "source": [
    "df.head()"
   ]
  },
  {
   "cell_type": "code",
   "execution_count": 44,
   "metadata": {},
   "outputs": [],
   "source": [
    "df['WINNER'] = df['RESULT'].apply(lambda f: result(f)[0])\n",
    "df['POINTS'] = df['RESULT'].apply(lambda f: result(f)[1])\n",
    "df['OUTCOME'] = df['WINNER'].apply(lambda f: outcome(f))"
   ]
  },
  {
   "cell_type": "code",
   "execution_count": 45,
   "metadata": {},
   "outputs": [
    {
     "data": {
      "text/html": [
       "<div>\n",
       "<style scoped>\n",
       "    .dataframe tbody tr th:only-of-type {\n",
       "        vertical-align: middle;\n",
       "    }\n",
       "\n",
       "    .dataframe tbody tr th {\n",
       "        vertical-align: top;\n",
       "    }\n",
       "\n",
       "    .dataframe thead th {\n",
       "        text-align: right;\n",
       "    }\n",
       "</style>\n",
       "<table border=\"1\" class=\"dataframe\">\n",
       "  <thead>\n",
       "    <tr style=\"text-align: right;\">\n",
       "      <th></th>\n",
       "      <th>MAP</th>\n",
       "      <th>RED_TEAM</th>\n",
       "      <th>BLUE_TEAM</th>\n",
       "      <th>TEAM_START</th>\n",
       "      <th>RESULT</th>\n",
       "      <th>WINNER</th>\n",
       "      <th>POINTS</th>\n",
       "      <th>OUTCOME</th>\n",
       "    </tr>\n",
       "  </thead>\n",
       "  <tbody>\n",
       "    <tr>\n",
       "      <th>0</th>\n",
       "      <td>FIXEDalleyCapture</td>\n",
       "      <td>h3</td>\n",
       "      <td>myTeamAStar</td>\n",
       "      <td>Red team starts</td>\n",
       "      <td>The Red team wins by 5 points.</td>\n",
       "      <td>Red</td>\n",
       "      <td>5</td>\n",
       "      <td>WIN</td>\n",
       "    </tr>\n",
       "    <tr>\n",
       "      <th>1</th>\n",
       "      <td>FIXEDbloxCapture</td>\n",
       "      <td>h3</td>\n",
       "      <td>myTeamAStar</td>\n",
       "      <td>Red team starts</td>\n",
       "      <td>The Red team wins by 10 points.</td>\n",
       "      <td>Red</td>\n",
       "      <td>10</td>\n",
       "      <td>WIN</td>\n",
       "    </tr>\n",
       "    <tr>\n",
       "      <th>2</th>\n",
       "      <td>FIXEDcrowdedCapture</td>\n",
       "      <td>h3</td>\n",
       "      <td>myTeamAStar</td>\n",
       "      <td>Blue team starts</td>\n",
       "      <td>The Red team wins by 12 points.</td>\n",
       "      <td>Red</td>\n",
       "      <td>12</td>\n",
       "      <td>WIN</td>\n",
       "    </tr>\n",
       "    <tr>\n",
       "      <th>3</th>\n",
       "      <td>FIXEDdefaultCapture</td>\n",
       "      <td>h3</td>\n",
       "      <td>myTeamAStar</td>\n",
       "      <td>Red team starts</td>\n",
       "      <td>Tie game!</td>\n",
       "      <td>0</td>\n",
       "      <td>0</td>\n",
       "      <td>TIE</td>\n",
       "    </tr>\n",
       "    <tr>\n",
       "      <th>4</th>\n",
       "      <td>FIXEDdistantCapture</td>\n",
       "      <td>h3</td>\n",
       "      <td>myTeamAStar</td>\n",
       "      <td>Red team starts</td>\n",
       "      <td>Tie game!</td>\n",
       "      <td>0</td>\n",
       "      <td>0</td>\n",
       "      <td>TIE</td>\n",
       "    </tr>\n",
       "  </tbody>\n",
       "</table>\n",
       "</div>"
      ],
      "text/plain": [
       "                   MAP RED_TEAM    BLUE_TEAM        TEAM_START  \\\n",
       "0    FIXEDalleyCapture       h3  myTeamAStar   Red team starts   \n",
       "1     FIXEDbloxCapture       h3  myTeamAStar   Red team starts   \n",
       "2  FIXEDcrowdedCapture       h3  myTeamAStar  Blue team starts   \n",
       "3  FIXEDdefaultCapture       h3  myTeamAStar   Red team starts   \n",
       "4  FIXEDdistantCapture       h3  myTeamAStar   Red team starts   \n",
       "\n",
       "                            RESULT WINNER POINTS OUTCOME  \n",
       "0   The Red team wins by 5 points.    Red      5     WIN  \n",
       "1  The Red team wins by 10 points.    Red     10     WIN  \n",
       "2  The Red team wins by 12 points.    Red     12     WIN  \n",
       "3                        Tie game!      0      0     TIE  \n",
       "4                        Tie game!      0      0     TIE  "
      ]
     },
     "execution_count": 45,
     "metadata": {},
     "output_type": "execute_result"
    }
   ],
   "source": [
    "df.head()"
   ]
  },
  {
   "cell_type": "code",
   "execution_count": 46,
   "metadata": {},
   "outputs": [],
   "source": [
    "df.drop(columns=('RESULT'),axis=1, inplace=True)"
   ]
  },
  {
   "cell_type": "code",
   "execution_count": 47,
   "metadata": {},
   "outputs": [
    {
     "data": {
      "text/html": [
       "<div>\n",
       "<style scoped>\n",
       "    .dataframe tbody tr th:only-of-type {\n",
       "        vertical-align: middle;\n",
       "    }\n",
       "\n",
       "    .dataframe tbody tr th {\n",
       "        vertical-align: top;\n",
       "    }\n",
       "\n",
       "    .dataframe thead th {\n",
       "        text-align: right;\n",
       "    }\n",
       "</style>\n",
       "<table border=\"1\" class=\"dataframe\">\n",
       "  <thead>\n",
       "    <tr style=\"text-align: right;\">\n",
       "      <th></th>\n",
       "      <th>MAP</th>\n",
       "      <th>RED_TEAM</th>\n",
       "      <th>BLUE_TEAM</th>\n",
       "      <th>TEAM_START</th>\n",
       "      <th>WINNER</th>\n",
       "      <th>POINTS</th>\n",
       "      <th>OUTCOME</th>\n",
       "    </tr>\n",
       "  </thead>\n",
       "  <tbody>\n",
       "    <tr>\n",
       "      <th>0</th>\n",
       "      <td>FIXEDalleyCapture</td>\n",
       "      <td>h3</td>\n",
       "      <td>myTeamAStar</td>\n",
       "      <td>Red team starts</td>\n",
       "      <td>Red</td>\n",
       "      <td>5</td>\n",
       "      <td>WIN</td>\n",
       "    </tr>\n",
       "    <tr>\n",
       "      <th>1</th>\n",
       "      <td>FIXEDbloxCapture</td>\n",
       "      <td>h3</td>\n",
       "      <td>myTeamAStar</td>\n",
       "      <td>Red team starts</td>\n",
       "      <td>Red</td>\n",
       "      <td>10</td>\n",
       "      <td>WIN</td>\n",
       "    </tr>\n",
       "    <tr>\n",
       "      <th>2</th>\n",
       "      <td>FIXEDcrowdedCapture</td>\n",
       "      <td>h3</td>\n",
       "      <td>myTeamAStar</td>\n",
       "      <td>Blue team starts</td>\n",
       "      <td>Red</td>\n",
       "      <td>12</td>\n",
       "      <td>WIN</td>\n",
       "    </tr>\n",
       "    <tr>\n",
       "      <th>3</th>\n",
       "      <td>FIXEDdefaultCapture</td>\n",
       "      <td>h3</td>\n",
       "      <td>myTeamAStar</td>\n",
       "      <td>Red team starts</td>\n",
       "      <td>0</td>\n",
       "      <td>0</td>\n",
       "      <td>TIE</td>\n",
       "    </tr>\n",
       "    <tr>\n",
       "      <th>4</th>\n",
       "      <td>FIXEDdistantCapture</td>\n",
       "      <td>h3</td>\n",
       "      <td>myTeamAStar</td>\n",
       "      <td>Red team starts</td>\n",
       "      <td>0</td>\n",
       "      <td>0</td>\n",
       "      <td>TIE</td>\n",
       "    </tr>\n",
       "  </tbody>\n",
       "</table>\n",
       "</div>"
      ],
      "text/plain": [
       "                   MAP RED_TEAM    BLUE_TEAM        TEAM_START WINNER POINTS  \\\n",
       "0    FIXEDalleyCapture       h3  myTeamAStar   Red team starts    Red      5   \n",
       "1     FIXEDbloxCapture       h3  myTeamAStar   Red team starts    Red     10   \n",
       "2  FIXEDcrowdedCapture       h3  myTeamAStar  Blue team starts    Red     12   \n",
       "3  FIXEDdefaultCapture       h3  myTeamAStar   Red team starts      0      0   \n",
       "4  FIXEDdistantCapture       h3  myTeamAStar   Red team starts      0      0   \n",
       "\n",
       "  OUTCOME  \n",
       "0     WIN  \n",
       "1     WIN  \n",
       "2     WIN  \n",
       "3     TIE  \n",
       "4     TIE  "
      ]
     },
     "execution_count": 47,
     "metadata": {},
     "output_type": "execute_result"
    }
   ],
   "source": [
    "df.head()"
   ]
  },
  {
   "cell_type": "code",
   "execution_count": 23,
   "metadata": {},
   "outputs": [],
   "source": [
    "df.to_csv('/Users/k/Desktop/runs/H3_parachange.csv', index=False)"
   ]
  },
  {
   "cell_type": "code",
   "execution_count": 30,
   "metadata": {},
   "outputs": [
    {
     "data": {
      "text/html": [
       "<div>\n",
       "<style scoped>\n",
       "    .dataframe tbody tr th:only-of-type {\n",
       "        vertical-align: middle;\n",
       "    }\n",
       "\n",
       "    .dataframe tbody tr th {\n",
       "        vertical-align: top;\n",
       "    }\n",
       "\n",
       "    .dataframe thead th {\n",
       "        text-align: right;\n",
       "    }\n",
       "</style>\n",
       "<table border=\"1\" class=\"dataframe\">\n",
       "  <thead>\n",
       "    <tr style=\"text-align: right;\">\n",
       "      <th></th>\n",
       "      <th>MAP</th>\n",
       "      <th>BLUE_TEAM</th>\n",
       "      <th>TEAM_START</th>\n",
       "      <th>WINNER</th>\n",
       "      <th>POINTS</th>\n",
       "      <th>OUTCOME</th>\n",
       "    </tr>\n",
       "    <tr>\n",
       "      <th>RED_TEAM</th>\n",
       "      <th></th>\n",
       "      <th></th>\n",
       "      <th></th>\n",
       "      <th></th>\n",
       "      <th></th>\n",
       "      <th></th>\n",
       "    </tr>\n",
       "  </thead>\n",
       "  <tbody>\n",
       "    <tr>\n",
       "      <th>h3</th>\n",
       "      <td>77</td>\n",
       "      <td>77</td>\n",
       "      <td>77</td>\n",
       "      <td>77</td>\n",
       "      <td>77</td>\n",
       "      <td>77</td>\n",
       "    </tr>\n",
       "  </tbody>\n",
       "</table>\n",
       "</div>"
      ],
      "text/plain": [
       "          MAP  BLUE_TEAM  TEAM_START  WINNER  POINTS  OUTCOME\n",
       "RED_TEAM                                                     \n",
       "h3         77         77          77      77      77       77"
      ]
     },
     "execution_count": 30,
     "metadata": {},
     "output_type": "execute_result"
    }
   ],
   "source": [
    "df[(df['OUTCOME']=='WIN')&(df['BLUE_TEAM']=='mcts')].groupby('RED_TEAM').count()"
   ]
  },
  {
   "cell_type": "code",
   "execution_count": 31,
   "metadata": {},
   "outputs": [],
   "source": [
    "df2 = pd.read_csv('/Users/k/Downloads/HybridV4_and_HybridV5_vs_All.csv')"
   ]
  },
  {
   "cell_type": "code",
   "execution_count": 33,
   "metadata": {},
   "outputs": [
    {
     "data": {
      "text/plain": [
       "AStar           273\n",
       "mcts            273\n",
       "MDP             273\n",
       "MDP.v4.1        272\n",
       "baselineTeam    271\n",
       "Name: BLUE_TEAM, dtype: int64"
      ]
     },
     "execution_count": 33,
     "metadata": {},
     "output_type": "execute_result"
    }
   ],
   "source": [
    "df2['BLUE_TEAM'].value_counts()"
   ]
  },
  {
   "cell_type": "code",
   "execution_count": 50,
   "metadata": {},
   "outputs": [
    {
     "data": {
      "text/plain": [
       "myTeamAStar     137\n",
       "leeroy          137\n",
       "baselineTeam    137\n",
       "mcts            137\n",
       "MDP.v4.1        136\n",
       "MDPv2            59\n",
       "Name: BLUE_TEAM, dtype: int64"
      ]
     },
     "execution_count": 50,
     "metadata": {},
     "output_type": "execute_result"
    }
   ],
   "source": [
    "df['BLUE_TEAM'].value_counts()"
   ]
  },
  {
   "cell_type": "code",
   "execution_count": 52,
   "metadata": {},
   "outputs": [],
   "source": [
    "def furm(x):\n",
    "    if x=='myTeamAStar': return 'AStar'\n",
    "    if x=='mcts': return 'mcts'\n",
    "    if x=='baselineTeam': return 'baselineTeam'\n",
    "    if x=='MDP.v4.1': return 'MDP.v4.1'\n",
    "    if x=='MDPv2': return 'MDP'"
   ]
  },
  {
   "cell_type": "code",
   "execution_count": 55,
   "metadata": {},
   "outputs": [],
   "source": [
    "df['BLUE_TEAM'] = df['BLUE_TEAM'].apply(lambda x: furm(x))"
   ]
  },
  {
   "cell_type": "code",
   "execution_count": 58,
   "metadata": {},
   "outputs": [],
   "source": [
    "df['RED_TEAM'] = 'HybridV3'"
   ]
  },
  {
   "cell_type": "code",
   "execution_count": 59,
   "metadata": {},
   "outputs": [
    {
     "data": {
      "text/html": [
       "<div>\n",
       "<style scoped>\n",
       "    .dataframe tbody tr th:only-of-type {\n",
       "        vertical-align: middle;\n",
       "    }\n",
       "\n",
       "    .dataframe tbody tr th {\n",
       "        vertical-align: top;\n",
       "    }\n",
       "\n",
       "    .dataframe thead th {\n",
       "        text-align: right;\n",
       "    }\n",
       "</style>\n",
       "<table border=\"1\" class=\"dataframe\">\n",
       "  <thead>\n",
       "    <tr style=\"text-align: right;\">\n",
       "      <th></th>\n",
       "      <th>MAP</th>\n",
       "      <th>RED_TEAM</th>\n",
       "      <th>BLUE_TEAM</th>\n",
       "      <th>TEAM_START</th>\n",
       "      <th>WINNER</th>\n",
       "      <th>POINTS</th>\n",
       "      <th>OUTCOME</th>\n",
       "    </tr>\n",
       "  </thead>\n",
       "  <tbody>\n",
       "    <tr>\n",
       "      <th>0</th>\n",
       "      <td>FIXEDalleyCapture</td>\n",
       "      <td>HybridV3</td>\n",
       "      <td>AStar</td>\n",
       "      <td>Red team starts</td>\n",
       "      <td>Red</td>\n",
       "      <td>5</td>\n",
       "      <td>WIN</td>\n",
       "    </tr>\n",
       "    <tr>\n",
       "      <th>1</th>\n",
       "      <td>FIXEDbloxCapture</td>\n",
       "      <td>HybridV3</td>\n",
       "      <td>AStar</td>\n",
       "      <td>Red team starts</td>\n",
       "      <td>Red</td>\n",
       "      <td>10</td>\n",
       "      <td>WIN</td>\n",
       "    </tr>\n",
       "    <tr>\n",
       "      <th>2</th>\n",
       "      <td>FIXEDcrowdedCapture</td>\n",
       "      <td>HybridV3</td>\n",
       "      <td>AStar</td>\n",
       "      <td>Blue team starts</td>\n",
       "      <td>Red</td>\n",
       "      <td>12</td>\n",
       "      <td>WIN</td>\n",
       "    </tr>\n",
       "    <tr>\n",
       "      <th>3</th>\n",
       "      <td>FIXEDdefaultCapture</td>\n",
       "      <td>HybridV3</td>\n",
       "      <td>AStar</td>\n",
       "      <td>Red team starts</td>\n",
       "      <td>0</td>\n",
       "      <td>0</td>\n",
       "      <td>TIE</td>\n",
       "    </tr>\n",
       "    <tr>\n",
       "      <th>4</th>\n",
       "      <td>FIXEDdistantCapture</td>\n",
       "      <td>HybridV3</td>\n",
       "      <td>AStar</td>\n",
       "      <td>Red team starts</td>\n",
       "      <td>0</td>\n",
       "      <td>0</td>\n",
       "      <td>TIE</td>\n",
       "    </tr>\n",
       "  </tbody>\n",
       "</table>\n",
       "</div>"
      ],
      "text/plain": [
       "                   MAP  RED_TEAM BLUE_TEAM        TEAM_START WINNER POINTS  \\\n",
       "0    FIXEDalleyCapture  HybridV3     AStar   Red team starts    Red      5   \n",
       "1     FIXEDbloxCapture  HybridV3     AStar   Red team starts    Red     10   \n",
       "2  FIXEDcrowdedCapture  HybridV3     AStar  Blue team starts    Red     12   \n",
       "3  FIXEDdefaultCapture  HybridV3     AStar   Red team starts      0      0   \n",
       "4  FIXEDdistantCapture  HybridV3     AStar   Red team starts      0      0   \n",
       "\n",
       "  OUTCOME  \n",
       "0     WIN  \n",
       "1     WIN  \n",
       "2     WIN  \n",
       "3     TIE  \n",
       "4     TIE  "
      ]
     },
     "execution_count": 59,
     "metadata": {},
     "output_type": "execute_result"
    }
   ],
   "source": [
    "df.head()"
   ]
  },
  {
   "cell_type": "code",
   "execution_count": 62,
   "metadata": {},
   "outputs": [],
   "source": [
    "df3 = pd.concat([df2, df], axis=0)"
   ]
  },
  {
   "cell_type": "code",
   "execution_count": 68,
   "metadata": {},
   "outputs": [],
   "source": [
    "df3.to_csv('/Users/k/Desktop/runs/combined.csv', index=False)"
   ]
  },
  {
   "cell_type": "code",
   "execution_count": null,
   "metadata": {},
   "outputs": [],
   "source": []
  }
 ],
 "metadata": {
  "kernelspec": {
   "display_name": "Python 3",
   "language": "python",
   "name": "python3"
  },
  "language_info": {
   "codemirror_mode": {
    "name": "ipython",
    "version": 3
   },
   "file_extension": ".py",
   "mimetype": "text/x-python",
   "name": "python",
   "nbconvert_exporter": "python",
   "pygments_lexer": "ipython3",
   "version": "3.6.5"
  }
 },
 "nbformat": 4,
 "nbformat_minor": 2
}
