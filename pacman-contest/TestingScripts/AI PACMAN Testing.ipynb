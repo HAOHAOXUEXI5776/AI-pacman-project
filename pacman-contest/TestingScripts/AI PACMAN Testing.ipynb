{
 "cells": [
  {
   "cell_type": "code",
   "execution_count": 1,
   "metadata": {},
   "outputs": [],
   "source": [
    "import pandas as pd\n",
    "import numpy as np"
   ]
  },
  {
   "cell_type": "code",
   "execution_count": 2,
   "metadata": {},
   "outputs": [],
   "source": [
    "a = 0\n",
    "numbers = []\n",
    "while a < 10001:\n",
    "    numbers.append(np.random.uniform(a,a+1000, 5))\n",
    "    a += 1000"
   ]
  },
  {
   "cell_type": "code",
   "execution_count": 3,
   "metadata": {},
   "outputs": [],
   "source": [
    "n2= []\n",
    "for num in numbers:\n",
    "    for x in num:\n",
    "        n2.append(x)"
   ]
  },
  {
   "cell_type": "code",
   "execution_count": 4,
   "metadata": {},
   "outputs": [],
   "source": [
    "def format1(x):\n",
    "    x = x.strip()\n",
    "    s = x.split('$')\n",
    "    s = [n for n in s if len(n)>1]\n",
    "    return [s[0], s[1], s[2], s[3], s[-1]]\n",
    "\n",
    "def outcome(x):\n",
    "    if x=='Blue':\n",
    "        return 'LOSE'\n",
    "    if x=='Red':\n",
    "        return 'WIN'\n",
    "    else:\n",
    "        return 'TIE'"
   ]
  },
  {
   "cell_type": "code",
   "execution_count": 7,
   "metadata": {},
   "outputs": [],
   "source": [
    "string = ''\n",
    "with open('output.log','r') as fr:\n",
    "    for line in fr:\n",
    "        if (line.__contains__('/Users/vitaly/') == False) and line.__contains__('{}') == False and line.__contains__('DATA') == False:\n",
    "            string = string + line.replace('\\n', '$')"
   ]
  },
  {
   "cell_type": "code",
   "execution_count": 8,
   "metadata": {},
   "outputs": [],
   "source": [
    "arr = string.split('= = = = = = = = = = = = = = = =')"
   ]
  },
  {
   "cell_type": "code",
   "execution_count": 12,
   "metadata": {},
   "outputs": [
    {
     "data": {
      "text/plain": [
       "['RANDOM191$MDP.v4$$$..//MDP.v4.py$Loading Team: ..//MDP.v4.py$$..//baselineTeam.py$Loading Team: ..//baselineTeam.py$0$Blue team starts$Time is up.$The Red team wins by 18 points.$',\n",
       " \"$RANDOM841$MDP.v4$baselineTeam$$..//MDP.v4.py$Loading Team: ..//MDP.v4.py$$..//baselineTeam.py$Loading Team: ..//baselineTeam.py$1$Blue team starts$The Red team has returned at least 28 of the opponents' dots.$\",\n",
       " \"$RANDOM7296$MDP.v4$baselineTeam$$..//MDP.v4.py$Loading Team: ..//MDP.v4.py$$..//baselineTeam.py$Loading Team: ..//baselineTeam.py$1$Red team starts$The Red team has returned at least 28 of the opponents' dots.$\",\n",
       " \"$RANDOM9592$MDP.v4$baselineTeam$$..//MDP.v4.py$Loading Team: ..//MDP.v4.py$$..//baselineTeam.py$Loading Team: ..//baselineTeam.py$1$Red team starts$The Red team has returned at least 28 of the opponents' dots.$\",\n",
       " \"$RANDOM2305$MDP.v4$baselineTeam$$..//MDP.v4.py$Loading Team: ..//MDP.v4.py$$..//baselineTeam.py$Loading Team: ..//baselineTeam.py$1$Red team starts$The Red team has returned at least 28 of the opponents' dots.$\",\n",
       " \"$RANDOM4917$MDP.v4$baselineTeam$$..//MDP.v4.py$Loading Team: ..//MDP.v4.py$$..//baselineTeam.py$Loading Team: ..//baselineTeam.py$2$Blue team starts$The Blue team has returned at least 28 of the opponents' dots.$\",\n",
       " \"$RANDOM5331$MDP.v4$baselineTeam$$..//MDP.v4.py$Loading Team: ..//MDP.v4.py$$..//baselineTeam.py$Loading Team: ..//baselineTeam.py$2$Blue team starts$The Red team has returned at least 28 of the opponents' dots.$\",\n",
       " \"$RANDOM6903$MDP.v4$baselineTeam$$..//MDP.v4.py$Loading Team: ..//MDP.v4.py$$..//baselineTeam.py$Loading Team: ..//baselineTeam.py$0$Blue team starts$The Red team has returned at least 28 of the opponents' dots.$\",\n",
       " \"$RANDOM3438$MDP.v4$baselineTeam$$..//MDP.v4.py$Loading Team: ..//MDP.v4.py$$..//baselineTeam.py$Loading Team: ..//baselineTeam.py$2$Red team starts$The Blue team has returned at least 28 of the opponents' dots.$\",\n",
       " \"$RANDOM6777$MDP.v4$baselineTeam$$..//MDP.v4.py$Loading Team: ..//MDP.v4.py$$..//baselineTeam.py$Loading Team: ..//baselineTeam.py$1$Blue team starts$The Red team has returned at least 28 of the opponents' dots.$\",\n",
       " \"$RANDOM5405$MDP.v4$baselineTeam$$..//MDP.v4.py$Loading Team: ..//MDP.v4.py$$..//baselineTeam.py$Loading Team: ..//baselineTeam.py$1$Red team starts$The Blue team has returned at least 28 of the opponents' dots.$\",\n",
       " \"$RANDOM535$MDP.v4$baselineTeam$$..//MDP.v4.py$Loading Team: ..//MDP.v4.py$$..//baselineTeam.py$Loading Team: ..//baselineTeam.py$0$Red team starts$The Red team has returned at least 28 of the opponents' dots.$\",\n",
       " \"$RANDOM2821$MDP.v4$baselineTeam$$..//MDP.v4.py$Loading Team: ..//MDP.v4.py$$..//baselineTeam.py$Loading Team: ..//baselineTeam.py$3$Blue team starts$The Red team has returned at least 28 of the opponents' dots.$\",\n",
       " \"$RANDOM8692$MDP.v4$baselineTeam$$..//MDP.v4.py$Loading Team: ..//MDP.v4.py$$..//baselineTeam.py$Loading Team: ..//baselineTeam.py$2$Blue team starts$The Red team has returned at least 28 of the opponents' dots.$\",\n",
       " \"$RANDOM5144$MDP.v4$baselineTeam$$..//MDP.v4.py$Loading Team: ..//MDP.v4.py$$..//baselineTeam.py$Loading Team: ..//baselineTeam.py$1$Blue team starts$The Blue team has returned at least 28 of the opponents' dots.$\",\n",
       " \"$RANDOM6311$MDP.v4$baselineTeam$$..//MDP.v4.py$Loading Team: ..//MDP.v4.py$$..//baselineTeam.py$Loading Team: ..//baselineTeam.py$1$Blue team starts$The Red team has returned at least 28 of the opponents' dots.$\",\n",
       " \"$RANDOM2608$MDP.v4$baselineTeam$$..//MDP.v4.py$Loading Team: ..//MDP.v4.py$$..//baselineTeam.py$Loading Team: ..//baselineTeam.py$1$Blue team starts$The Red team has returned at least 28 of the opponents' dots.$\",\n",
       " \"$RANDOM4331$MDP.v4$baselineTeam$$..//MDP.v4.py$Loading Team: ..//MDP.v4.py$$..//baselineTeam.py$Loading Team: ..//baselineTeam.py$0$Blue team starts$The Red team has returned at least 28 of the opponents' dots.$\",\n",
       " \"$RANDOM6146$MDP.v4$baselineTeam$$..//MDP.v4.py$Loading Team: ..//MDP.v4.py$$..//baselineTeam.py$Loading Team: ..//baselineTeam.py$1$Blue team starts$The Red team has returned at least 28 of the opponents' dots.$\",\n",
       " \"$RANDOM5702$MDP.v4$baselineTeam$$..//MDP.v4.py$Loading Team: ..//MDP.v4.py$$..//baselineTeam.py$Loading Team: ..//baselineTeam.py$2$Red team starts$The Red team has returned at least 28 of the opponents' dots.$\",\n",
       " \"$RANDOM4636$MDP.v4$baselineTeam$$..//MDP.v4.py$Loading Team: ..//MDP.v4.py$$..//baselineTeam.py$Loading Team: ..//baselineTeam.py$1$Blue team starts$The Blue team has returned at least 28 of the opponents' dots.$\",\n",
       " \"$RANDOM4417$MDP.v4$baselineTeam$$..//MDP.v4.py$Loading Team: ..//MDP.v4.py$$..//baselineTeam.py$Loading Team: ..//baselineTeam.py$1$Blue team starts$The Red team has returned at least 28 of the opponents' dots.$\",\n",
       " \"$RANDOM8278$MDP.v4$baselineTeam$$..//MDP.v4.py$Loading Team: ..//MDP.v4.py$$..//baselineTeam.py$Loading Team: ..//baselineTeam.py$1$Red team starts$The Red team has returned at least 28 of the opponents' dots.$\",\n",
       " \"$RANDOM1160$MDP.v4$baselineTeam$$..//MDP.v4.py$Loading Team: ..//MDP.v4.py$$..//baselineTeam.py$Loading Team: ..//baselineTeam.py$3$Blue team starts$The Red team has returned at least 28 of the opponents' dots.$\",\n",
       " \"$RANDOM7633$MDP.v4$baselineTeam$$..//MDP.v4.py$Loading Team: ..//MDP.v4.py$$..//baselineTeam.py$Loading Team: ..//baselineTeam.py$0$Blue team starts$The Red team has returned at least 28 of the opponents' dots.$\",\n",
       " \"$RANDOM8951$MDP.v4$baselineTeam$$..//MDP.v4.py$Loading Team: ..//MDP.v4.py$$..//baselineTeam.py$Loading Team: ..//baselineTeam.py$2$Red team starts$The Red team has returned at least 28 of the opponents' dots.$\",\n",
       " \"$RANDOM4469$MDP.v4$baselineTeam$$..//MDP.v4.py$Loading Team: ..//MDP.v4.py$$..//baselineTeam.py$Loading Team: ..//baselineTeam.py$1$Red team starts$The Red team has returned at least 28 of the opponents' dots.$\",\n",
       " '$RANDOM2746$MDP.v4$baselineTeam$$..//MDP.v4.py$Loading Team: ..//MDP.v4.py$$..//baselineTeam.py$Loading Team: ..//baselineTeam.py$1$Red team starts$Time is up.$The Red team wins by 27 points.$',\n",
       " \"$RANDOM5193$MDP.v4$baselineTeam$$..//MDP.v4.py$Loading Team: ..//MDP.v4.py$$..//baselineTeam.py$Loading Team: ..//baselineTeam.py$2$Red team starts$The Red team has returned at least 28 of the opponents' dots.$\",\n",
       " \"$RANDOM128$MDP.v4$baselineTeam$$..//MDP.v4.py$Loading Team: ..//MDP.v4.py$$..//baselineTeam.py$Loading Team: ..//baselineTeam.py$1$Blue team starts$The Blue team has returned at least 28 of the opponents' dots.$\",\n",
       " \"$RANDOM3914$MDP.v4$baselineTeam$$..//MDP.v4.py$Loading Team: ..//MDP.v4.py$$..//baselineTeam.py$Loading Team: ..//baselineTeam.py$0$Blue team starts$The Red team has returned at least 28 of the opponents' dots.$\",\n",
       " \"$RANDOM5732$MDP.v4$baselineTeam$$..//MDP.v4.py$Loading Team: ..//MDP.v4.py$$..//baselineTeam.py$Loading Team: ..//baselineTeam.py$0$Red team starts$The Red team has returned at least 28 of the opponents' dots.$\",\n",
       " \"$RANDOM6395$MDP.v4$baselineTeam$$..//MDP.v4.py$Loading Team: ..//MDP.v4.py$$..//baselineTeam.py$Loading Team: ..//baselineTeam.py$3$Red team starts$The Red team has returned at least 28 of the opponents' dots.$\",\n",
       " \"$RANDOM7953$MDP.v4$baselineTeam$$..//MDP.v4.py$Loading Team: ..//MDP.v4.py$$..//baselineTeam.py$Loading Team: ..//baselineTeam.py$1$Blue team starts$The Red team has returned at least 28 of the opponents' dots.$\",\n",
       " \"$RANDOM6937$MDP.v4$baselineTeam$$..//MDP.v4.py$Loading Team: ..//MDP.v4.py$$..//baselineTeam.py$Loading Team: ..//baselineTeam.py$2$Red team starts$The Red team has returned at least 28 of the opponents' dots.$\",\n",
       " \"$RANDOM5018$MDP.v4$baselineTeam$$..//MDP.v4.py$Loading Team: ..//MDP.v4.py$$..//baselineTeam.py$Loading Team: ..//baselineTeam.py$2$Red team starts$The Red team has returned at least 28 of the opponents' dots.$\",\n",
       " \"$RANDOM5756$MDP.v4$baselineTeam$$..//MDP.v4.py$Loading Team: ..//MDP.v4.py$$..//baselineTeam.py$Loading Team: ..//baselineTeam.py$1$Red team starts$The Red team has returned at least 28 of the opponents' dots.$\",\n",
       " \"$RANDOM9274$MDP.v4$baselineTeam$$..//MDP.v4.py$Loading Team: ..//MDP.v4.py$$..//baselineTeam.py$Loading Team: ..//baselineTeam.py$2$Red team starts$The Red team has returned at least 28 of the opponents' dots.$\",\n",
       " \"$RANDOM2482$MDP.v4$baselineTeam$$..//MDP.v4.py$Loading Team: ..//MDP.v4.py$$..//baselineTeam.py$Loading Team: ..//baselineTeam.py$1$Blue team starts$The Red team has returned at least 28 of the opponents' dots.$\",\n",
       " \"$RANDOM1279$MDP.v4$baselineTeam$$..//MDP.v4.py$Loading Team: ..//MDP.v4.py$$..//baselineTeam.py$Loading Team: ..//baselineTeam.py$1$Blue team starts$The Red team has returned at least 28 of the opponents' dots.$\",\n",
       " \"$RANDOM1498$MDP.v4$baselineTeam$$..//MDP.v4.py$Loading Team: ..//MDP.v4.py$$..//baselineTeam.py$Loading Team: ..//baselineTeam.py$0$Red team starts$The Blue team has returned at least 28 of the opponents' dots.$\",\n",
       " \"$RANDOM2110$MDP.v4$baselineTeam$$..//MDP.v4.py$Loading Team: ..//MDP.v4.py$$..//baselineTeam.py$Loading Team: ..//baselineTeam.py$1$Blue team starts$The Red team has returned at least 28 of the opponents' dots.$\",\n",
       " \"$RANDOM3022$MDP.v4$baselineTeam$$..//MDP.v4.py$Loading Team: ..//MDP.v4.py$$..//baselineTeam.py$Loading Team: ..//baselineTeam.py$1$Blue team starts$The Blue team has returned at least 28 of the opponents' dots.$\",\n",
       " \"$RANDOM6592$MDP.v4$baselineTeam$$..//MDP.v4.py$Loading Team: ..//MDP.v4.py$$..//baselineTeam.py$Loading Team: ..//baselineTeam.py$1$Red team starts$The Red team has returned at least 28 of the opponents' dots.$\",\n",
       " '$RANDOM9440$MDP.v4$baselineTeam$$..//MDP.v4.py$Loading Team: ..//MDP.v4.py$$..//baselineTeam.py$Loading Team: ..//baselineTeam.py$1$Blue team starts$Time is up.$The Red team wins by 25 points.$',\n",
       " \"$RANDOM5686$MDP.v4$baselineTeam$$..//MDP.v4.py$Loading Team: ..//MDP.v4.py$$..//baselineTeam.py$Loading Team: ..//baselineTeam.py$1$Red team starts$The Red team has returned at least 28 of the opponents' dots.$\",\n",
       " \"$RANDOM1006$MDP.v4$baselineTeam$$..//MDP.v4.py$Loading Team: ..//MDP.v4.py$$..//baselineTeam.py$Loading Team: ..//baselineTeam.py$3$Blue team starts$The Blue team has returned at least 28 of the opponents' dots.$\",\n",
       " \"$RANDOM4921$MDP.v4$baselineTeam$$..//MDP.v4.py$Loading Team: ..//MDP.v4.py$$..//baselineTeam.py$Loading Team: ..//baselineTeam.py$1$Red team starts$The Red team has returned at least 28 of the opponents' dots.$\",\n",
       " \"$RANDOM7673$MDP.v4$baselineTeam$$..//MDP.v4.py$Loading Team: ..//MDP.v4.py$$..//baselineTeam.py$Loading Team: ..//baselineTeam.py$1$Blue team starts$The Red team has returned at least 28 of the opponents' dots.$\",\n",
       " \"$RANDOM2963$MDP.v4$baselineTeam$$..//MDP.v4.py$Loading Team: ..//MDP.v4.py$$..//baselineTeam.py$Loading Team: ..//baselineTeam.py$1$Red team starts$The Red team has returned at least 28 of the opponents' dots.$\",\n",
       " \"$RANDOM455$MDP.v4$baselineTeam$$..//MDP.v4.py$Loading Team: ..//MDP.v4.py$$..//baselineTeam.py$Loading Team: ..//baselineTeam.py$0$Blue team starts$The Blue team has returned at least 28 of the opponents' dots.$\",\n",
       " \"$RANDOM5778$MDP.v4$baselineTeam$$..//MDP.v4.py$Loading Team: ..//MDP.v4.py$$..//baselineTeam.py$Loading Team: ..//baselineTeam.py$1$Red team starts$The Red team has returned at least 28 of the opponents' dots.$\",\n",
       " \"$RANDOM2425$MDP.v4$baselineTeam$$..//MDP.v4.py$Loading Team: ..//MDP.v4.py$$..//baselineTeam.py$Loading Team: ..//baselineTeam.py$0$Blue team starts$The Red team has returned at least 28 of the opponents' dots.$\",\n",
       " \"$RANDOM5951$MDP.v4$baselineTeam$$..//MDP.v4.py$Loading Team: ..//MDP.v4.py$$..//baselineTeam.py$Loading Team: ..//baselineTeam.py$1$Blue team starts$The Red team has returned at least 28 of the opponents' dots.$\",\n",
       " \"$RANDOM3100$MDP.v4$baselineTeam$$..//MDP.v4.py$Loading Team: ..//MDP.v4.py$$..//baselineTeam.py$Loading Team: ..//baselineTeam.py$1$Blue team starts$The Red team has returned at least 28 of the opponents' dots.$\",\n",
       " \"$RANDOM8029$MDP.v4$baselineTeam$$..//MDP.v4.py$Loading Team: ..//MDP.v4.py$$..//baselineTeam.py$Loading Team: ..//baselineTeam.py$1$Blue team starts$The Red team has returned at least 28 of the opponents' dots.$\",\n",
       " \"$RANDOM141$MDP.v4$baselineTeam$$..//MDP.v4.py$Loading Team: ..//MDP.v4.py$$..//baselineTeam.py$Loading Team: ..//baselineTeam.py$1$Blue team starts$The Red team has returned at least 28 of the opponents' dots.$\",\n",
       " \"$RANDOM3633$MDP.v4$baselineTeam$$..//MDP.v4.py$Loading Team: ..//MDP.v4.py$$..//baselineTeam.py$Loading Team: ..//baselineTeam.py$0$Red team starts$The Red team has returned at least 28 of the opponents' dots.$\",\n",
       " '$RANDOM8874$MDP.v4$baselineTeam$$..//MDP.v4.py$Loading Team: ..//MDP.v4.py$$..//baselineTeam.py$Loading Team: ..//baselineTeam.py$0$Blue team starts$Time is up.$The Red team wins by 11 points.$',\n",
       " \"$RANDOM7748$MDP.v4$baselineTeam$$..//MDP.v4.py$Loading Team: ..//MDP.v4.py$$..//baselineTeam.py$Loading Team: ..//baselineTeam.py$1$Red team starts$The Red team has returned at least 28 of the opponents' dots.$\",\n",
       " \"$RANDOM2159$MDP.v4$baselineTeam$$..//MDP.v4.py$Loading Team: ..//MDP.v4.py$$..//baselineTeam.py$Loading Team: ..//baselineTeam.py$1$Red team starts$The Red team has returned at least 28 of the opponents' dots.$\",\n",
       " \"$RANDOM598$MDP.v4$baselineTeam$$..//MDP.v4.py$Loading Team: ..//MDP.v4.py$$..//baselineTeam.py$Loading Team: ..//baselineTeam.py$0$Red team starts$The Blue team has returned at least 28 of the opponents' dots.$\",\n",
       " \"$RANDOM7045$MDP.v4$baselineTeam$$..//MDP.v4.py$Loading Team: ..//MDP.v4.py$$..//baselineTeam.py$Loading Team: ..//baselineTeam.py$1$Red team starts$The Red team has returned at least 28 of the opponents' dots.$\",\n",
       " \"$RANDOM3510$MDP.v4$baselineTeam$$..//MDP.v4.py$Loading Team: ..//MDP.v4.py$$..//baselineTeam.py$Loading Team: ..//baselineTeam.py$1$Red team starts$The Blue team has returned at least 28 of the opponents' dots.$\",\n",
       " \"$RANDOM1155$MDP.v4$baselineTeam$$..//MDP.v4.py$Loading Team: ..//MDP.v4.py$$..//baselineTeam.py$Loading Team: ..//baselineTeam.py$3$Red team starts$The Red team has returned at least 28 of the opponents' dots.$\",\n",
       " \"$RANDOM9359$MDP.v4$baselineTeam$$..//MDP.v4.py$Loading Team: ..//MDP.v4.py$$..//baselineTeam.py$Loading Team: ..//baselineTeam.py$1$Blue team starts$The Blue team has returned at least 28 of the opponents' dots.$\",\n",
       " \"$RANDOM9577$MDP.v4$baselineTeam$$..//MDP.v4.py$Loading Team: ..//MDP.v4.py$$..//baselineTeam.py$Loading Team: ..//baselineTeam.py$1$Red team starts$The Red team has returned at least 28 of the opponents' dots.$\",\n",
       " \"$RANDOM5997$MDP.v4$baselineTeam$$..//MDP.v4.py$Loading Team: ..//MDP.v4.py$$..//baselineTeam.py$Loading Team: ..//baselineTeam.py$3$Blue team starts$The Red team has returned at least 28 of the opponents' dots.$\",\n",
       " \"$RANDOM3796$MDP.v4$baselineTeam$$..//MDP.v4.py$Loading Team: ..//MDP.v4.py$$..//baselineTeam.py$Loading Team: ..//baselineTeam.py$1$Blue team starts$The Red team has returned at least 28 of the opponents' dots.$\",\n",
       " \"$RANDOM6316$MDP.v4$baselineTeam$$..//MDP.v4.py$Loading Team: ..//MDP.v4.py$$..//baselineTeam.py$Loading Team: ..//baselineTeam.py$3$Red team starts$The Blue team has returned at least 28 of the opponents' dots.$\",\n",
       " \"$RANDOM7693$MDP.v4$baselineTeam$$..//MDP.v4.py$Loading Team: ..//MDP.v4.py$$..//baselineTeam.py$Loading Team: ..//baselineTeam.py$2$Red team starts$The Blue team has returned at least 28 of the opponents' dots.$\",\n",
       " '$RANDOM507$MDP.v4$baselineTeam$$..//MDP.v4.py$Loading Team: ..//MDP.v4.py$$..//baselineTeam.py$Loading Team: ..//baselineTeam.py$1$Blue team starts$Time is up.$Tie game!$',\n",
       " \"$RANDOM1708$MDP.v4$baselineTeam$$..//MDP.v4.py$Loading Team: ..//MDP.v4.py$$..//baselineTeam.py$Loading Team: ..//baselineTeam.py$1$Blue team starts$The Red team has returned at least 28 of the opponents' dots.$\",\n",
       " \"$RANDOM362$MDP.v4$baselineTeam$$..//MDP.v4.py$Loading Team: ..//MDP.v4.py$$..//baselineTeam.py$Loading Team: ..//baselineTeam.py$1$Blue team starts$The Blue team has returned at least 28 of the opponents' dots.$\",\n",
       " \"$RANDOM1928$MDP.v4$baselineTeam$$..//MDP.v4.py$Loading Team: ..//MDP.v4.py$$..//baselineTeam.py$Loading Team: ..//baselineTeam.py$1$Red team starts$The Blue team has returned at least 28 of the opponents' dots.$\",\n",
       " \"$RANDOM288$MDP.v4$baselineTeam$$..//MDP.v4.py$Loading Team: ..//MDP.v4.py$$..//baselineTeam.py$Loading Team: ..//baselineTeam.py$2$Red team starts$The Blue team has returned at least 28 of the opponents' dots.$\",\n",
       " \"$RANDOM2062$MDP.v4$baselineTeam$$..//MDP.v4.py$Loading Team: ..//MDP.v4.py$$..//baselineTeam.py$Loading Team: ..//baselineTeam.py$2$Red team starts$The Red team has returned at least 28 of the opponents' dots.$\",\n",
       " \"$RANDOM8301$MDP.v4$baselineTeam$$..//MDP.v4.py$Loading Team: ..//MDP.v4.py$$..//baselineTeam.py$Loading Team: ..//baselineTeam.py$0$Blue team starts$The Red team has returned at least 28 of the opponents' dots.$\",\n",
       " \"$RANDOM9058$MDP.v4$baselineTeam$$..//MDP.v4.py$Loading Team: ..//MDP.v4.py$$..//baselineTeam.py$Loading Team: ..//baselineTeam.py$1$Red team starts$The Blue team has returned at least 28 of the opponents' dots.$\",\n",
       " \"$RANDOM2700$MDP.v4$baselineTeam$$..//MDP.v4.py$Loading Team: ..//MDP.v4.py$$..//baselineTeam.py$Loading Team: ..//baselineTeam.py$1$Red team starts$The Red team has returned at least 28 of the opponents' dots.$\",\n",
       " \"$RANDOM8022$MDP.v4$baselineTeam$$..//MDP.v4.py$Loading Team: ..//MDP.v4.py$$..//baselineTeam.py$Loading Team: ..//baselineTeam.py$1$Red team starts$The Red team has returned at least 28 of the opponents' dots.$\",\n",
       " \"$RANDOM9317$MDP.v4$baselineTeam$$..//MDP.v4.py$Loading Team: ..//MDP.v4.py$$..//baselineTeam.py$Loading Team: ..//baselineTeam.py$1$Red team starts$The Blue team has returned at least 28 of the opponents' dots.$\",\n",
       " \"$RANDOM668$MDP.v4$baselineTeam$$..//MDP.v4.py$Loading Team: ..//MDP.v4.py$$..//baselineTeam.py$Loading Team: ..//baselineTeam.py$3$Red team starts$The Blue team has returned at least 28 of the opponents' dots.$\",\n",
       " \"$RANDOM6989$MDP.v4$baselineTeam$$..//MDP.v4.py$Loading Team: ..//MDP.v4.py$$..//baselineTeam.py$Loading Team: ..//baselineTeam.py$1$Blue team starts$The Blue team has returned at least 28 of the opponents' dots.$\",\n",
       " \"$RANDOM4753$MDP.v4$baselineTeam$$..//MDP.v4.py$Loading Team: ..//MDP.v4.py$$..//baselineTeam.py$Loading Team: ..//baselineTeam.py$2$Red team starts$The Red team has returned at least 28 of the opponents' dots.$\",\n",
       " \"$RANDOM4280$MDP.v4$baselineTeam$$..//MDP.v4.py$Loading Team: ..//MDP.v4.py$$..//baselineTeam.py$Loading Team: ..//baselineTeam.py$2$Blue team starts$The Blue team has returned at least 28 of the opponents' dots.$\",\n",
       " \"$RANDOM2708$MDP.v4$baselineTeam$$..//MDP.v4.py$Loading Team: ..//MDP.v4.py$$..//baselineTeam.py$Loading Team: ..//baselineTeam.py$0$Red team starts$The Blue team has returned at least 28 of the opponents' dots.$\",\n",
       " \"$RANDOM6119$MDP.v4$baselineTeam$$..//MDP.v4.py$Loading Team: ..//MDP.v4.py$$..//baselineTeam.py$Loading Team: ..//baselineTeam.py$0$Red team starts$The Blue team has returned at least 28 of the opponents' dots.$\",\n",
       " \"$RANDOM1337$MDP.v4$baselineTeam$$..//MDP.v4.py$Loading Team: ..//MDP.v4.py$$..//baselineTeam.py$Loading Team: ..//baselineTeam.py$0$Red team starts$The Blue team has returned at least 28 of the opponents' dots.$\",\n",
       " \"$RANDOM7379$MDP.v4$baselineTeam$$..//MDP.v4.py$Loading Team: ..//MDP.v4.py$$..//baselineTeam.py$Loading Team: ..//baselineTeam.py$1$Blue team starts$The Blue team has returned at least 28 of the opponents' dots.$\",\n",
       " \"$RANDOM46$MDP.v4$baselineTeam$$..//MDP.v4.py$Loading Team: ..//MDP.v4.py$$..//baselineTeam.py$Loading Team: ..//baselineTeam.py$2$Red team starts$The Red team has returned at least 28 of the opponents' dots.$\",\n",
       " \"$RANDOM5589$MDP.v4$baselineTeam$$..//MDP.v4.py$Loading Team: ..//MDP.v4.py$$..//baselineTeam.py$Loading Team: ..//baselineTeam.py$1$Red team starts$The Blue team has returned at least 28 of the opponents' dots.$\",\n",
       " \"$RANDOM3946$MDP.v4$baselineTeam$$..//MDP.v4.py$Loading Team: ..//MDP.v4.py$$..//baselineTeam.py$Loading Team: ..//baselineTeam.py$1$Red team starts$The Blue team has returned at least 28 of the opponents' dots.$\",\n",
       " \"$RANDOM5823$MDP.v4$baselineTeam$$..//MDP.v4.py$Loading Team: ..//MDP.v4.py$$..//baselineTeam.py$Loading Team: ..//baselineTeam.py$1$Blue team starts$The Red team has returned at least 28 of the opponents' dots.$\",\n",
       " \"$RANDOM6263$MDP.v4$baselineTeam$$..//MDP.v4.py$Loading Team: ..//MDP.v4.py$$..//baselineTeam.py$Loading Team: ..//baselineTeam.py$1$Red team starts$The Blue team has returned at least 28 of the opponents' dots.$\",\n",
       " \"$RANDOM9802$MDP.v4$baselineTeam$$..//MDP.v4.py$Loading Team: ..//MDP.v4.py$$..//baselineTeam.py$Loading Team: ..//baselineTeam.py$1$Red team starts$The Blue team has returned at least 28 of the opponents' dots.$\",\n",
       " \"$RANDOM4574$MDP.v4$baselineTeam$$..//MDP.v4.py$Loading Team: ..//MDP.v4.py$$..//baselineTeam.py$Loading Team: ..//baselineTeam.py$1$Red team starts$The Red team has returned at least 28 of the opponents' dots.$\",\n",
       " \"$RANDOM37$MDP.v4$baselineTeam$$..//MDP.v4.py$Loading Team: ..//MDP.v4.py$$..//baselineTeam.py$Loading Team: ..//baselineTeam.py$2$Red team starts$The Blue team has returned at least 28 of the opponents' dots.$\",\n",
       " \"$RANDOM1621$MDP.v4$baselineTeam$$..//MDP.v4.py$Loading Team: ..//MDP.v4.py$$..//baselineTeam.py$Loading Team: ..//baselineTeam.py$2$Blue team starts$The Red team has returned at least 28 of the opponents' dots.$\",\n",
       " \"$RANDOM3622$MDP.v4$baselineTeam$$..//MDP.v4.py$Loading Team: ..//MDP.v4.py$$..//baselineTeam.py$Loading Team: ..//baselineTeam.py$0$Red team starts$The Blue team has returned at least 28 of the opponents' dots.$\",\n",
       " \"$RANDOM1224$MDP.v4$baselineTeam$$..//MDP.v4.py$Loading Team: ..//MDP.v4.py$$..//baselineTeam.py$Loading Team: ..//baselineTeam.py$2$Red team starts$The Blue team has returned at least 28 of the opponents' dots.$\",\n",
       " \"$RANDOM3280$MDP.v4$baselineTeam$$..//MDP.v4.py$Loading Team: ..//MDP.v4.py$$..//baselineTeam.py$Loading Team: ..//baselineTeam.py$0$Blue team starts$The Red team has returned at least 28 of the opponents' dots.$\",\n",
       " \"$RANDOM9013$MDP.v4$baselineTeam$$..//MDP.v4.py$Loading Team: ..//MDP.v4.py$$..//baselineTeam.py$Loading Team: ..//baselineTeam.py$2$Blue team starts$The Red team has returned at least 28 of the opponents' dots.$\",\n",
       " \"$RANDOM9809$MDP.v4$baselineTeam$$..//MDP.v4.py$Loading Team: ..//MDP.v4.py$$..//baselineTeam.py$Loading Team: ..//baselineTeam.py$1$Blue team starts$The Red team has returned at least 28 of the opponents' dots.$\",\n",
       " \"$RANDOM7064$MDP.v4$baselineTeam$$..//MDP.v4.py$Loading Team: ..//MDP.v4.py$$..//baselineTeam.py$Loading Team: ..//baselineTeam.py$0$Red team starts$The Red team has returned at least 28 of the opponents' dots.$\",\n",
       " \"$RANDOM5630$MDP.v4$baselineTeam$$..//MDP.v4.py$Loading Team: ..//MDP.v4.py$$..//baselineTeam.py$Loading Team: ..//baselineTeam.py$1$Red team starts$The Red team has returned at least 28 of the opponents' dots.$\",\n",
       " \"$RANDOM4169$MDP.v4$baselineTeam$$..//MDP.v4.py$Loading Team: ..//MDP.v4.py$$..//baselineTeam.py$Loading Team: ..//baselineTeam.py$1$Red team starts$The Red team has returned at least 28 of the opponents' dots.$\",\n",
       " \"$RANDOM6246$MDP.v4$baselineTeam$$..//MDP.v4.py$Loading Team: ..//MDP.v4.py$$..//baselineTeam.py$Loading Team: ..//baselineTeam.py$1$Red team starts$The Blue team has returned at least 28 of the opponents' dots.$\",\n",
       " \"$RANDOM5784$MDP.v4$baselineTeam$$..//MDP.v4.py$Loading Team: ..//MDP.v4.py$$..//baselineTeam.py$Loading Team: ..//baselineTeam.py$0$Red team starts$The Red team has returned at least 28 of the opponents' dots.$\",\n",
       " \"$RANDOM2436$MDP.v4$baselineTeam$$..//MDP.v4.py$Loading Team: ..//MDP.v4.py$$..//baselineTeam.py$Loading Team: ..//baselineTeam.py$2$Red team starts$The Red team has returned at least 28 of the opponents' dots.$\",\n",
       " \"$RANDOM8155$MDP.v4$baselineTeam$$..//MDP.v4.py$Loading Team: ..//MDP.v4.py$$..//baselineTeam.py$Loading Team: ..//baselineTeam.py$2$Red team starts$The Blue team has returned at least 28 of the opponents' dots.$\",\n",
       " \"$RANDOM1160$MDP.v4$baselineTeam$$..//MDP.v4.py$Loading Team: ..//MDP.v4.py$$..//baselineTeam.py$Loading Team: ..//baselineTeam.py$3$Blue team starts$The Red team has returned at least 28 of the opponents' dots.$\",\n",
       " \"$RANDOM58$MDP.v4$baselineTeam$$..//MDP.v4.py$Loading Team: ..//MDP.v4.py$$..//baselineTeam.py$Loading Team: ..//baselineTeam.py$3$Blue team starts$The Blue team has returned at least 28 of the opponents' dots.$\",\n",
       " \"$RANDOM100$MDP.v4$baselineTeam$$..//MDP.v4.py$Loading Team: ..//MDP.v4.py$$..//baselineTeam.py$Loading Team: ..//baselineTeam.py$2$Blue team starts$The Red team has returned at least 28 of the opponents' dots.$\",\n",
       " \"$RANDOM9825$MDP.v4$baselineTeam$$..//MDP.v4.py$Loading Team: ..//MDP.v4.py$$..//baselineTeam.py$Loading Team: ..//baselineTeam.py$2$Red team starts$The Red team has returned at least 28 of the opponents' dots.$\",\n",
       " '$']"
      ]
     },
     "execution_count": 12,
     "metadata": {},
     "output_type": "execute_result"
    }
   ],
   "source": [
    "arr"
   ]
  },
  {
   "cell_type": "code",
   "execution_count": 13,
   "metadata": {},
   "outputs": [],
   "source": [
    "def findr(x):\n",
    "    return len(x.split('$'))"
   ]
  },
  {
   "cell_type": "code",
   "execution_count": 14,
   "metadata": {},
   "outputs": [],
   "source": [
    "Narr = []"
   ]
  },
  {
   "cell_type": "code",
   "execution_count": 15,
   "metadata": {},
   "outputs": [],
   "source": [
    "for item in arr:\n",
    "    if item.endswith('starts$'):\n",
    "        print(item,'\\n')\n",
    "    else:\n",
    "        Narr.append(item)"
   ]
  },
  {
   "cell_type": "code",
   "execution_count": 16,
   "metadata": {},
   "outputs": [
    {
     "name": "stdout",
     "output_type": "stream",
     "text": [
      "1\n"
     ]
    }
   ],
   "source": [
    "Parr=[]\n",
    "for item in Narr:\n",
    "    if len(item)<50:\n",
    "        print(len(item))\n",
    "    else:\n",
    "        Parr.append(item)"
   ]
  },
  {
   "cell_type": "code",
   "execution_count": 17,
   "metadata": {},
   "outputs": [
    {
     "data": {
      "text/plain": [
       "['RANDOM841',\n",
       " 'MDP.v2',\n",
       " 'leeroy',\n",
       " 'Blue team starts',\n",
       " 'The Red team wins by 18 points.']"
      ]
     },
     "execution_count": 17,
     "metadata": {},
     "output_type": "execute_result"
    }
   ],
   "source": [
    "format1('$RANDOM841$MDP.v2$leeroy$$$1$Blue team starts$Time is up.$The Red team wins by 18 points.$')"
   ]
  },
  {
   "cell_type": "code",
   "execution_count": 18,
   "metadata": {},
   "outputs": [],
   "source": [
    "D= []\n",
    "for item in Parr:\n",
    "    D.append(format1(item))"
   ]
  },
  {
   "cell_type": "code",
   "execution_count": 19,
   "metadata": {},
   "outputs": [],
   "source": [
    "df= pd.DataFrame.from_records(D, columns=('MAP', 'RED_TEAM','BLUE_TEAM','TEAM_START','RESULT'))"
   ]
  },
  {
   "cell_type": "code",
   "execution_count": 20,
   "metadata": {},
   "outputs": [],
   "source": [
    "def result(x):\n",
    "    s=[]\n",
    "    #print(x.split(' '))\n",
    "    if 'Tie' in x:\n",
    "        return [0, 0]\n",
    "    elif 'returned' in x:\n",
    "        s = x.split(' ')\n",
    "        return [s[1], s[7]]\n",
    "    else:\n",
    "        s = x.split(' ')\n",
    "        return [s[1], s[5]]"
   ]
  },
  {
   "cell_type": "code",
   "execution_count": 21,
   "metadata": {},
   "outputs": [],
   "source": [
    "df['WINNER'] = df['RESULT'].apply(lambda f: result(f)[0])\n",
    "df['POINTS'] = df['RESULT'].apply(lambda f: result(f)[1])\n",
    "df['OUTCOME'] = df['WINNER'].apply(lambda f: outcome(f))"
   ]
  },
  {
   "cell_type": "code",
   "execution_count": 22,
   "metadata": {},
   "outputs": [],
   "source": [
    "df.drop(columns=('RESULT'),axis=1, inplace=True)"
   ]
  },
  {
   "cell_type": "code",
   "execution_count": 26,
   "metadata": {},
   "outputs": [
    {
     "data": {
      "text/plain": [
       "(37, 7)"
      ]
     },
     "execution_count": 26,
     "metadata": {},
     "output_type": "execute_result"
    }
   ],
   "source": [
    "df[df['OUTCOME']=='LOSE'].shape"
   ]
  },
  {
   "cell_type": "code",
   "execution_count": 25,
   "metadata": {},
   "outputs": [],
   "source": [
    "df.to_csv('MDPv4_vs_mcts.csv', index=False)"
   ]
  },
  {
   "cell_type": "code",
   "execution_count": null,
   "metadata": {},
   "outputs": [],
   "source": []
  }
 ],
 "metadata": {
  "hide_input": false,
  "kernelspec": {
   "display_name": "Python 3",
   "language": "python",
   "name": "python3"
  },
  "language_info": {
   "codemirror_mode": {
    "name": "ipython",
    "version": 3
   },
   "file_extension": ".py",
   "mimetype": "text/x-python",
   "name": "python",
   "nbconvert_exporter": "python",
   "pygments_lexer": "ipython3",
   "version": "3.6.4"
  },
  "toc": {
   "nav_menu": {},
   "number_sections": true,
   "sideBar": true,
   "skip_h1_title": false,
   "toc_cell": false,
   "toc_position": {},
   "toc_section_display": "block",
   "toc_window_display": true
  }
 },
 "nbformat": 4,
 "nbformat_minor": 2
}
