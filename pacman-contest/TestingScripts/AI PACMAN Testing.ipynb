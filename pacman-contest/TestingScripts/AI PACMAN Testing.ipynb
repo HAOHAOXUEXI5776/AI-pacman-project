{
 "cells": [
  {
   "cell_type": "code",
   "execution_count": 1,
   "metadata": {},
   "outputs": [],
   "source": [
    "import pandas as pd\n",
    "import numpy as np"
   ]
  },
  {
   "cell_type": "code",
   "execution_count": 2,
   "metadata": {},
   "outputs": [],
   "source": [
    "def format1(x):\n",
    "    if x.__contains__('Tie'):\n",
    "        return [0, 0]\n",
    "    else:\n",
    "        s = x.split(' ')\n",
    "        if x.__contains__('returned'):\n",
    "            return [s[1], 28]\n",
    "        else:\n",
    "            return [s[1], s[5]]\n",
    "\n",
    "def outcome(x):\n",
    "    if x=='Blue':\n",
    "        return 'LOSE'\n",
    "    if x=='Red':\n",
    "        return 'WIN'\n",
    "    else:\n",
    "        return 'TIE'   "
   ]
  },
  {
   "cell_type": "code",
   "execution_count": 74,
   "metadata": {},
   "outputs": [],
   "source": [
    "logfile = pd.read_csv('./data/output.log')"
   ]
  },
  {
   "cell_type": "code",
   "execution_count": 75,
   "metadata": {},
   "outputs": [],
   "source": [
    "logfileN = logfile[(logfile.DATA.str.contains('/')==False)&(logfile.DATA.str.contains('{}')==False)&(logfile.DATA.str.contains('=')==False)&(logfile.DATA.str.contains('Time is up.')==False)].reset_index(drop=True)"
   ]
  },
  {
   "cell_type": "code",
   "execution_count": 76,
   "metadata": {},
   "outputs": [],
   "source": [
    "logfileN['len'] = logfileN.DATA.str.len()"
   ]
  },
  {
   "cell_type": "code",
   "execution_count": 77,
   "metadata": {},
   "outputs": [],
   "source": [
    "logfileN = logfileN[logfileN['len']!=1]"
   ]
  },
  {
   "cell_type": "code",
   "execution_count": 78,
   "metadata": {},
   "outputs": [],
   "source": [
    "logfileN.drop(columns=('len'), axis=1, inplace=True)"
   ]
  },
  {
   "cell_type": "code",
   "execution_count": 79,
   "metadata": {},
   "outputs": [],
   "source": [
    "logfileN.reset_index(drop = True, inplace=True)"
   ]
  },
  {
   "cell_type": "code",
   "execution_count": 80,
   "metadata": {},
   "outputs": [
    {
     "data": {
      "text/plain": [
       "(635, 1)"
      ]
     },
     "execution_count": 80,
     "metadata": {},
     "output_type": "execute_result"
    }
   ],
   "source": [
    "logfileN.shape"
   ]
  },
  {
   "cell_type": "markdown",
   "metadata": {},
   "source": [
    "# How many maps were run, change the following parameter:"
   ]
  },
  {
   "cell_type": "code",
   "execution_count": 81,
   "metadata": {},
   "outputs": [],
   "source": [
    "arr = logfileN.values.reshape(127, 5)"
   ]
  },
  {
   "cell_type": "code",
   "execution_count": 82,
   "metadata": {},
   "outputs": [],
   "source": [
    "df = pd.DataFrame.from_records(arr, columns=('MAP','RED_TEAM','BLUE_TEAM','TEAM START','RESULT'))"
   ]
  },
  {
   "cell_type": "markdown",
   "metadata": {},
   "source": [
    "from IPython.core.display import HTML"
   ]
  },
  {
   "cell_type": "markdown",
   "metadata": {},
   "source": [
    "display(HTML(df.to_html()))"
   ]
  },
  {
   "cell_type": "code",
   "execution_count": 83,
   "metadata": {},
   "outputs": [],
   "source": [
    "df['WINNER'] = df['RESULT'].apply(lambda y: format1(y)[0])\n",
    "df['POINTS'] = df['RESULT'].apply(lambda y: format1(y)[1])\n",
    "df['OUTCOME'] = df['WINNER'].apply(lambda y: outcome(y))\n",
    "df.drop(columns=('RESULT'), axis=1, inplace=True)"
   ]
  },
  {
   "cell_type": "code",
   "execution_count": 84,
   "metadata": {},
   "outputs": [],
   "source": [
    "df.to_csv('./data/ResultsBaseLineNew.csv', index=False)"
   ]
  },
  {
   "cell_type": "code",
   "execution_count": null,
   "metadata": {},
   "outputs": [],
   "source": []
  }
 ],
 "metadata": {
  "kernelspec": {
   "display_name": "Python 3",
   "language": "python",
   "name": "python3"
  },
  "language_info": {
   "codemirror_mode": {
    "name": "ipython",
    "version": 3
   },
   "file_extension": ".py",
   "mimetype": "text/x-python",
   "name": "python",
   "nbconvert_exporter": "python",
   "pygments_lexer": "ipython3",
   "version": "3.6.5"
  }
 },
 "nbformat": 4,
 "nbformat_minor": 2
}
