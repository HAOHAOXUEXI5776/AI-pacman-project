{
 "cells": [
  {
   "cell_type": "code",
   "execution_count": 1,
   "metadata": {},
   "outputs": [],
   "source": [
    "import pandas as pd\n",
    "import numpy as np"
   ]
  },
  {
   "cell_type": "code",
   "execution_count": 350,
   "metadata": {},
   "outputs": [],
   "source": [
    "a = 0\n",
    "numbers = []\n",
    "while a < 10001:\n",
    "    numbers.append(np.random.uniform(a,a+1000, 5))\n",
    "    a += 1000"
   ]
  },
  {
   "cell_type": "code",
   "execution_count": 352,
   "metadata": {},
   "outputs": [],
   "source": [
    "n2= []\n",
    "for num in numbers:\n",
    "    for x in num:\n",
    "        n2.append(x)"
   ]
  },
  {
   "cell_type": "code",
   "execution_count": 257,
   "metadata": {},
   "outputs": [
    {
     "data": {
      "text/plain": [
       "['RANDOM6989', 'MDP.v2', 'leeroy', 'Blue team starts', 'Tie game!']"
      ]
     },
     "execution_count": 257,
     "metadata": {},
     "output_type": "execute_result"
    }
   ],
   "source": [
    "def format1(x):\n",
    "    x = x.strip()\n",
    "    s = x.split('$')\n",
    "    s = [n for n in s if len(n)>1]\n",
    "    return [s[0], s[1], s[2], s[3], s[-1]]\n",
    "\n",
    "def outcome(x):\n",
    "    if x=='Blue':\n",
    "        return 'LOSE'\n",
    "    if x=='Red':\n",
    "        return 'WIN'\n",
    "    else:\n",
    "        return 'TIE'"
   ]
  },
  {
   "cell_type": "code",
   "execution_count": 359,
   "metadata": {},
   "outputs": [],
   "source": [
    "string = ''\n",
    "with open('/Users/k/PycharmProjects/comp90054-pacman/pacman-contest/TestingScripts/output.log','r') as fr:\n",
    "    for line in fr:\n",
    "        if (line.__contains__('/Users/k/') == False) and line.__contains__('{}') == False and line.__contains__('DATA') == False:\n",
    "            string = string + line.replace('\\n', '$')"
   ]
  },
  {
   "cell_type": "code",
   "execution_count": 360,
   "metadata": {},
   "outputs": [],
   "source": [
    "arr = string.split('= = = = = = = = = = = = = = = =')"
   ]
  },
  {
   "cell_type": "code",
   "execution_count": 361,
   "metadata": {},
   "outputs": [
    {
     "data": {
      "text/plain": [
       "['FIXEDalleyCapture$MDP.v2.5$mcts$$$Blue team starts$Time is up.$Tie game!$',\n",
       " \"$FIXEDbloxCapture$MDP.v2.5$mcts$$$Blue team starts$The Red team has returned at least 35 of the opponents' dots.$\",\n",
       " '$FIXEDcrowdedCapture$MDP.v2.5$mcts$$$Red team starts$Time is up.$The Blue team wins by 13 points.$',\n",
       " \"$FIXEDdefaultCapture$MDP.v2.5$mcts$$$Red team starts$The Red team has returned at least 18 of the opponents' dots.$\",\n",
       " '$FIXEDdistantCapture$MDP.v2.5$mcts$$$Blue team starts$Time is up.$Tie game!$',\n",
       " '$FIXEDfastCapture$MDP.v2.5$mcts$$$Red team starts$Time is up.$Tie game!$',\n",
       " '$FIXEDjumboCapture$MDP.v2.5$mcts$$$Blue team starts$Time is up.$Tie game!$',\n",
       " '$FIXEDmediumCapture$MDP.v2.5$mcts$$$Blue team starts$Time is up.$The Blue team wins by 33 points.$',\n",
       " '$FIXEDofficeCapture$MDP.v2.5$mcts$$$Red team starts$Time is up.$The Blue team wins by 36 points.$',\n",
       " \"$FIXEDstrategicCapture$MDP.v2.5$mcts$$$Blue team starts$The Red team has returned at least 34 of the opponents' dots.$\",\n",
       " '$FIXEDtestCapture$MDP.v2.5$mcts$$$Red team starts$',\n",
       " '$FIXEDtinyCapture$MDP.v2.5$mcts$$$Red team starts$Time is up.$The Blue team wins by 5 points.$',\n",
       " '$RANDOM212$MDP.v2.5$mcts$$$1$Red team starts$Time is up.$The Blue team wins by 14 points.$',\n",
       " '$RANDOM384$MDP.v2.5$mcts$$$2$Blue team starts$Time is up.$The Blue team wins by 17 points.$',\n",
       " \"$RANDOM55$MDP.v2.5$mcts$$$2$Red team starts$The Red team has returned at least 28 of the opponents' dots.$\",\n",
       " \"$RANDOM863$MDP.v2.5$mcts$$$3$Blue team starts$The Red team has returned at least 28 of the opponents' dots.$\",\n",
       " '$RANDOM159$MDP.v2.5$mcts$$$2$Red team starts$Time is up.$Tie game!$',\n",
       " \"$RANDOM1131$MDP.v2.5$mcts$$$0$Blue team starts$The Red team has returned at least 28 of the opponents' dots.$\",\n",
       " \"$RANDOM1853$MDP.v2.5$mcts$$$2$Red team starts$The Red team has returned at least 28 of the opponents' dots.$\",\n",
       " '$RANDOM1495$MDP.v2.5$mcts$$$1$Blue team starts$Time is up.$The Blue team wins by 22 points.$',\n",
       " \"$RANDOM1443$MDP.v2.5$mcts$$$3$Red team starts$The Red team has returned at least 28 of the opponents' dots.$\",\n",
       " '$RANDOM1708$MDP.v2.5$mcts$$$1$Blue team starts$Time is up.$Tie game!$',\n",
       " \"$RANDOM2303$MDP.v2.5$mcts$$$0$Blue team starts$The Red team has returned at least 28 of the opponents' dots.$\",\n",
       " \"$RANDOM2648$MDP.v2.5$mcts$$$1$Blue team starts$The Red team has returned at least 28 of the opponents' dots.$\",\n",
       " \"$RANDOM2136$MDP.v2.5$mcts$$$2$Blue team starts$The Red team has returned at least 28 of the opponents' dots.$\",\n",
       " '$RANDOM2580$MDP.v2.5$mcts$$$2$Blue team starts$Time is up.$The Red team wins by 1 points.$',\n",
       " \"$RANDOM2082$MDP.v2.5$mcts$$$2$Red team starts$The Red team has returned at least 28 of the opponents' dots.$\",\n",
       " \"$RANDOM3577$MDP.v2.5$mcts$$$1$Red team starts$The Red team has returned at least 28 of the opponents' dots.$\",\n",
       " '$RANDOM3070$MDP.v2.5$mcts$$$1$Red team starts$Time is up.$Tie game!$',\n",
       " '$RANDOM3622$MDP.v2.5$mcts$$$0$Red team starts$Time is up.$The Blue team wins by 15 points.$',\n",
       " \"$RANDOM3597$MDP.v2.5$mcts$$$1$Blue team starts$The Red team has returned at least 28 of the opponents' dots.$\",\n",
       " \"$RANDOM3433$MDP.v2.5$mcts$$$0$Red team starts$The Red team has returned at least 28 of the opponents' dots.$\",\n",
       " '$RANDOM4166$MDP.v2.5$mcts$$$1$Red team starts$Time is up.$The Red team wins by 5 points.$',\n",
       " \"$RANDOM4161$MDP.v2.5$mcts$$$1$Blue team starts$The Red team has returned at least 28 of the opponents' dots.$\",\n",
       " '$RANDOM4165$MDP.v2.5$mcts$$$1$Red team starts$Time is up.$The Blue team wins by 9 points.$',\n",
       " \"$RANDOM4092$MDP.v2.5$mcts$$$0$Blue team starts$The Red team has returned at least 28 of the opponents' dots.$\",\n",
       " '$RANDOM4435$MDP.v2.5$mcts$$$0$Blue team starts$Time is up.$The Red team wins by 10 points.$',\n",
       " \"$RANDOM5827$MDP.v2.5$mcts$$$2$Blue team starts$The Red team has returned at least 28 of the opponents' dots.$\",\n",
       " '$RANDOM5277$MDP.v2.5$mcts$$$2$Red team starts$Time is up.$The Blue team wins by 16 points.$',\n",
       " '$RANDOM5310$MDP.v2.5$mcts$$$0$Blue team starts$Time is up.$The Blue team wins by 1 points.$',\n",
       " '$RANDOM5879$MDP.v2.5$mcts$$$2$Red team starts$Time is up.$Tie game!$',\n",
       " \"$RANDOM5538$MDP.v2.5$mcts$$$2$Red team starts$The Red team has returned at least 28 of the opponents' dots.$\",\n",
       " '$RANDOM6276$MDP.v2.5$mcts$$$2$Red team starts$Time is up.$Tie game!$',\n",
       " \"$RANDOM6844$MDP.v2.5$mcts$$$2$Red team starts$The Red team has returned at least 28 of the opponents' dots.$\",\n",
       " \"$RANDOM6927$MDP.v2.5$mcts$$$2$Red team starts$The Red team has returned at least 28 of the opponents' dots.$\",\n",
       " '$RANDOM6408$MDP.v2.5$mcts$$$3$Red team starts$Time is up.$The Blue team wins by 7 points.$',\n",
       " '$RANDOM6993$MDP.v2.5$mcts$$$1$Blue team starts$Time is up.$The Blue team wins by 1 points.$',\n",
       " \"$RANDOM7406$MDP.v2.5$mcts$$$1$Red team starts$The Red team has returned at least 28 of the opponents' dots.$\",\n",
       " \"$RANDOM7789$MDP.v2.5$mcts$$$1$Blue team starts$The Red team has returned at least 28 of the opponents' dots.$\",\n",
       " \"$RANDOM7108$MDP.v2.5$mcts$$$0$Red team starts$The Red team has returned at least 28 of the opponents' dots.$\",\n",
       " \"$RANDOM7132$MDP.v2.5$mcts$$$3$Red team starts$The Red team has returned at least 28 of the opponents' dots.$\",\n",
       " '$RANDOM7244$MDP.v2.5$mcts$$$0$Blue team starts$Time is up.$The Red team wins by 3 points.$',\n",
       " '$RANDOM8068$MDP.v2.5$mcts$$$2$Red team starts$Time is up.$Tie game!$',\n",
       " '$RANDOM8890$MDP.v2.5$mcts$$$1$Red team starts$Time is up.$The Blue team wins by 14 points.$',\n",
       " \"$RANDOM8747$MDP.v2.5$mcts$$$1$Blue team starts$The Red team has returned at least 28 of the opponents' dots.$\",\n",
       " '$RANDOM8999$MDP.v2.5$mcts$$$0$Red team starts$Time is up.$Tie game!$',\n",
       " '$RANDOM8667$MDP.v2.5$mcts$$$0$Blue team starts$Time is up.$The Blue team wins by 14 points.$',\n",
       " \"$RANDOM9159$MDP.v2.5$mcts$$$2$Red team starts$The Red team has returned at least 28 of the opponents' dots.$\",\n",
       " '$RANDOM9409$MDP.v2.5$mcts$$$1$Red team starts$',\n",
       " '$RANDOM9136$MDP.v2.5$mcts$$$0$Red team starts$Time is up.$The Blue team wins by 2 points.$',\n",
       " '$RANDOM9665$MDP.v2.5$mcts$$$2$Blue team starts$Time is up.$Tie game!$',\n",
       " \"$RANDOM9310$MDP.v2.5$mcts$$$1$Red team starts$The Red team has returned at least 28 of the opponents' dots.$\",\n",
       " '$']"
      ]
     },
     "execution_count": 361,
     "metadata": {},
     "output_type": "execute_result"
    }
   ],
   "source": [
    "arr"
   ]
  },
  {
   "cell_type": "code",
   "execution_count": 362,
   "metadata": {},
   "outputs": [],
   "source": [
    "def findr(x):\n",
    "    return len(x.split('$'))"
   ]
  },
  {
   "cell_type": "code",
   "execution_count": 363,
   "metadata": {},
   "outputs": [],
   "source": [
    "Narr = []"
   ]
  },
  {
   "cell_type": "code",
   "execution_count": 364,
   "metadata": {},
   "outputs": [
    {
     "name": "stdout",
     "output_type": "stream",
     "text": [
      "$FIXEDtestCapture$MDP.v2.5$mcts$$$Red team starts$ \n",
      "\n",
      "$RANDOM9409$MDP.v2.5$mcts$$$1$Red team starts$ \n",
      "\n"
     ]
    }
   ],
   "source": [
    "for item in arr:\n",
    "    if item.endswith('starts$'):\n",
    "        print(item,'\\n')\n",
    "    else:\n",
    "        Narr.append(item)"
   ]
  },
  {
   "cell_type": "code",
   "execution_count": 365,
   "metadata": {},
   "outputs": [
    {
     "name": "stdout",
     "output_type": "stream",
     "text": [
      "1\n"
     ]
    }
   ],
   "source": [
    "Parr=[]\n",
    "for item in Narr:\n",
    "    if len(item)<50:\n",
    "        print(len(item))\n",
    "    else:\n",
    "        Parr.append(item)"
   ]
  },
  {
   "cell_type": "code",
   "execution_count": 366,
   "metadata": {},
   "outputs": [
    {
     "data": {
      "text/plain": [
       "['RANDOM841',\n",
       " 'MDP.v2',\n",
       " 'leeroy',\n",
       " 'Blue team starts',\n",
       " 'The Red team wins by 18 points.']"
      ]
     },
     "execution_count": 366,
     "metadata": {},
     "output_type": "execute_result"
    }
   ],
   "source": [
    "format1('$RANDOM841$MDP.v2$leeroy$$$1$Blue team starts$Time is up.$The Red team wins by 18 points.$')"
   ]
  },
  {
   "cell_type": "code",
   "execution_count": 367,
   "metadata": {},
   "outputs": [],
   "source": [
    "D= []\n",
    "for item in Parr:\n",
    "    D.append(format1(item))"
   ]
  },
  {
   "cell_type": "code",
   "execution_count": 368,
   "metadata": {},
   "outputs": [],
   "source": [
    "df= pd.DataFrame.from_records(D, columns=('MAP', 'RED_TEAM','BLUE_TEAM','TEAM_START','RESULT'))"
   ]
  },
  {
   "cell_type": "code",
   "execution_count": 369,
   "metadata": {},
   "outputs": [],
   "source": [
    "def result(x):\n",
    "    s=[]\n",
    "    #print(x.split(' '))\n",
    "    if 'Tie' in x:\n",
    "        return [0, 0]\n",
    "    elif 'returned' in x:\n",
    "        s = x.split(' ')\n",
    "        return [s[1], s[7]]\n",
    "    else:\n",
    "        s = x.split(' ')\n",
    "        return [s[1], s[5]]"
   ]
  },
  {
   "cell_type": "code",
   "execution_count": 370,
   "metadata": {},
   "outputs": [],
   "source": [
    "df['WINNER'] = df['RESULT'].apply(lambda f: result(f)[0])\n",
    "df['POINTS'] = df['RESULT'].apply(lambda f: result(f)[1])\n",
    "df['OUTCOME'] = df['WINNER'].apply(lambda f: outcome(f))"
   ]
  },
  {
   "cell_type": "code",
   "execution_count": 371,
   "metadata": {},
   "outputs": [],
   "source": [
    "df.drop(columns=('RESULT'),axis=1, inplace=True)"
   ]
  },
  {
   "cell_type": "code",
   "execution_count": 374,
   "metadata": {},
   "outputs": [
    {
     "data": {
      "text/html": [
       "<div>\n",
       "<style scoped>\n",
       "    .dataframe tbody tr th:only-of-type {\n",
       "        vertical-align: middle;\n",
       "    }\n",
       "\n",
       "    .dataframe tbody tr th {\n",
       "        vertical-align: top;\n",
       "    }\n",
       "\n",
       "    .dataframe thead th {\n",
       "        text-align: right;\n",
       "    }\n",
       "</style>\n",
       "<table border=\"1\" class=\"dataframe\">\n",
       "  <thead>\n",
       "    <tr style=\"text-align: right;\">\n",
       "      <th></th>\n",
       "      <th>MAP</th>\n",
       "      <th>RED_TEAM</th>\n",
       "      <th>BLUE_TEAM</th>\n",
       "      <th>TEAM_START</th>\n",
       "      <th>WINNER</th>\n",
       "      <th>POINTS</th>\n",
       "      <th>OUTCOME</th>\n",
       "    </tr>\n",
       "  </thead>\n",
       "  <tbody>\n",
       "    <tr>\n",
       "      <th>2</th>\n",
       "      <td>FIXEDcrowdedCapture</td>\n",
       "      <td>MDP.v2.5</td>\n",
       "      <td>mcts</td>\n",
       "      <td>Red team starts</td>\n",
       "      <td>Blue</td>\n",
       "      <td>13</td>\n",
       "      <td>LOSE</td>\n",
       "    </tr>\n",
       "    <tr>\n",
       "      <th>7</th>\n",
       "      <td>FIXEDmediumCapture</td>\n",
       "      <td>MDP.v2.5</td>\n",
       "      <td>mcts</td>\n",
       "      <td>Blue team starts</td>\n",
       "      <td>Blue</td>\n",
       "      <td>33</td>\n",
       "      <td>LOSE</td>\n",
       "    </tr>\n",
       "    <tr>\n",
       "      <th>8</th>\n",
       "      <td>FIXEDofficeCapture</td>\n",
       "      <td>MDP.v2.5</td>\n",
       "      <td>mcts</td>\n",
       "      <td>Red team starts</td>\n",
       "      <td>Blue</td>\n",
       "      <td>36</td>\n",
       "      <td>LOSE</td>\n",
       "    </tr>\n",
       "    <tr>\n",
       "      <th>10</th>\n",
       "      <td>FIXEDtinyCapture</td>\n",
       "      <td>MDP.v2.5</td>\n",
       "      <td>mcts</td>\n",
       "      <td>Red team starts</td>\n",
       "      <td>Blue</td>\n",
       "      <td>5</td>\n",
       "      <td>LOSE</td>\n",
       "    </tr>\n",
       "    <tr>\n",
       "      <th>11</th>\n",
       "      <td>RANDOM212</td>\n",
       "      <td>MDP.v2.5</td>\n",
       "      <td>mcts</td>\n",
       "      <td>Red team starts</td>\n",
       "      <td>Blue</td>\n",
       "      <td>14</td>\n",
       "      <td>LOSE</td>\n",
       "    </tr>\n",
       "    <tr>\n",
       "      <th>12</th>\n",
       "      <td>RANDOM384</td>\n",
       "      <td>MDP.v2.5</td>\n",
       "      <td>mcts</td>\n",
       "      <td>Blue team starts</td>\n",
       "      <td>Blue</td>\n",
       "      <td>17</td>\n",
       "      <td>LOSE</td>\n",
       "    </tr>\n",
       "    <tr>\n",
       "      <th>18</th>\n",
       "      <td>RANDOM1495</td>\n",
       "      <td>MDP.v2.5</td>\n",
       "      <td>mcts</td>\n",
       "      <td>Blue team starts</td>\n",
       "      <td>Blue</td>\n",
       "      <td>22</td>\n",
       "      <td>LOSE</td>\n",
       "    </tr>\n",
       "    <tr>\n",
       "      <th>28</th>\n",
       "      <td>RANDOM3622</td>\n",
       "      <td>MDP.v2.5</td>\n",
       "      <td>mcts</td>\n",
       "      <td>Red team starts</td>\n",
       "      <td>Blue</td>\n",
       "      <td>15</td>\n",
       "      <td>LOSE</td>\n",
       "    </tr>\n",
       "    <tr>\n",
       "      <th>33</th>\n",
       "      <td>RANDOM4165</td>\n",
       "      <td>MDP.v2.5</td>\n",
       "      <td>mcts</td>\n",
       "      <td>Red team starts</td>\n",
       "      <td>Blue</td>\n",
       "      <td>9</td>\n",
       "      <td>LOSE</td>\n",
       "    </tr>\n",
       "    <tr>\n",
       "      <th>37</th>\n",
       "      <td>RANDOM5277</td>\n",
       "      <td>MDP.v2.5</td>\n",
       "      <td>mcts</td>\n",
       "      <td>Red team starts</td>\n",
       "      <td>Blue</td>\n",
       "      <td>16</td>\n",
       "      <td>LOSE</td>\n",
       "    </tr>\n",
       "    <tr>\n",
       "      <th>38</th>\n",
       "      <td>RANDOM5310</td>\n",
       "      <td>MDP.v2.5</td>\n",
       "      <td>mcts</td>\n",
       "      <td>Blue team starts</td>\n",
       "      <td>Blue</td>\n",
       "      <td>1</td>\n",
       "      <td>LOSE</td>\n",
       "    </tr>\n",
       "    <tr>\n",
       "      <th>44</th>\n",
       "      <td>RANDOM6408</td>\n",
       "      <td>MDP.v2.5</td>\n",
       "      <td>mcts</td>\n",
       "      <td>Red team starts</td>\n",
       "      <td>Blue</td>\n",
       "      <td>7</td>\n",
       "      <td>LOSE</td>\n",
       "    </tr>\n",
       "    <tr>\n",
       "      <th>45</th>\n",
       "      <td>RANDOM6993</td>\n",
       "      <td>MDP.v2.5</td>\n",
       "      <td>mcts</td>\n",
       "      <td>Blue team starts</td>\n",
       "      <td>Blue</td>\n",
       "      <td>1</td>\n",
       "      <td>LOSE</td>\n",
       "    </tr>\n",
       "    <tr>\n",
       "      <th>52</th>\n",
       "      <td>RANDOM8890</td>\n",
       "      <td>MDP.v2.5</td>\n",
       "      <td>mcts</td>\n",
       "      <td>Red team starts</td>\n",
       "      <td>Blue</td>\n",
       "      <td>14</td>\n",
       "      <td>LOSE</td>\n",
       "    </tr>\n",
       "    <tr>\n",
       "      <th>55</th>\n",
       "      <td>RANDOM8667</td>\n",
       "      <td>MDP.v2.5</td>\n",
       "      <td>mcts</td>\n",
       "      <td>Blue team starts</td>\n",
       "      <td>Blue</td>\n",
       "      <td>14</td>\n",
       "      <td>LOSE</td>\n",
       "    </tr>\n",
       "    <tr>\n",
       "      <th>57</th>\n",
       "      <td>RANDOM9136</td>\n",
       "      <td>MDP.v2.5</td>\n",
       "      <td>mcts</td>\n",
       "      <td>Red team starts</td>\n",
       "      <td>Blue</td>\n",
       "      <td>2</td>\n",
       "      <td>LOSE</td>\n",
       "    </tr>\n",
       "  </tbody>\n",
       "</table>\n",
       "</div>"
      ],
      "text/plain": [
       "                    MAP  RED_TEAM BLUE_TEAM        TEAM_START WINNER POINTS  \\\n",
       "2   FIXEDcrowdedCapture  MDP.v2.5      mcts   Red team starts   Blue     13   \n",
       "7    FIXEDmediumCapture  MDP.v2.5      mcts  Blue team starts   Blue     33   \n",
       "8    FIXEDofficeCapture  MDP.v2.5      mcts   Red team starts   Blue     36   \n",
       "10     FIXEDtinyCapture  MDP.v2.5      mcts   Red team starts   Blue      5   \n",
       "11            RANDOM212  MDP.v2.5      mcts   Red team starts   Blue     14   \n",
       "12            RANDOM384  MDP.v2.5      mcts  Blue team starts   Blue     17   \n",
       "18           RANDOM1495  MDP.v2.5      mcts  Blue team starts   Blue     22   \n",
       "28           RANDOM3622  MDP.v2.5      mcts   Red team starts   Blue     15   \n",
       "33           RANDOM4165  MDP.v2.5      mcts   Red team starts   Blue      9   \n",
       "37           RANDOM5277  MDP.v2.5      mcts   Red team starts   Blue     16   \n",
       "38           RANDOM5310  MDP.v2.5      mcts  Blue team starts   Blue      1   \n",
       "44           RANDOM6408  MDP.v2.5      mcts   Red team starts   Blue      7   \n",
       "45           RANDOM6993  MDP.v2.5      mcts  Blue team starts   Blue      1   \n",
       "52           RANDOM8890  MDP.v2.5      mcts   Red team starts   Blue     14   \n",
       "55           RANDOM8667  MDP.v2.5      mcts  Blue team starts   Blue     14   \n",
       "57           RANDOM9136  MDP.v2.5      mcts   Red team starts   Blue      2   \n",
       "\n",
       "   OUTCOME  \n",
       "2     LOSE  \n",
       "7     LOSE  \n",
       "8     LOSE  \n",
       "10    LOSE  \n",
       "11    LOSE  \n",
       "12    LOSE  \n",
       "18    LOSE  \n",
       "28    LOSE  \n",
       "33    LOSE  \n",
       "37    LOSE  \n",
       "38    LOSE  \n",
       "44    LOSE  \n",
       "45    LOSE  \n",
       "52    LOSE  \n",
       "55    LOSE  \n",
       "57    LOSE  "
      ]
     },
     "execution_count": 374,
     "metadata": {},
     "output_type": "execute_result"
    }
   ],
   "source": [
    "df[df['OUTCOME']=='LOSE']"
   ]
  },
  {
   "cell_type": "code",
   "execution_count": 373,
   "metadata": {},
   "outputs": [],
   "source": [
    "df.to_csv('/Users/k/Desktop/MDPv2.5_vs_mcts.csv', index=False)"
   ]
  },
  {
   "cell_type": "code",
   "execution_count": null,
   "metadata": {},
   "outputs": [],
   "source": []
  }
 ],
 "metadata": {
  "kernelspec": {
   "display_name": "Python 3",
   "language": "python",
   "name": "python3"
  },
  "language_info": {
   "codemirror_mode": {
    "name": "ipython",
    "version": 3
   },
   "file_extension": ".py",
   "mimetype": "text/x-python",
   "name": "python",
   "nbconvert_exporter": "python",
   "pygments_lexer": "ipython3",
   "version": "3.6.5"
  }
 },
 "nbformat": 4,
 "nbformat_minor": 2
}
